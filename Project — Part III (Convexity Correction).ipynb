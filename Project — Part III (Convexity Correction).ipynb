{
 "cells": [
  {
   "cell_type": "markdown",
   "id": "b23f68f1",
   "metadata": {},
   "source": [
    "# QF605 Part III"
   ]
  },
  {
   "cell_type": "markdown",
   "id": "ba8ac3b7",
   "metadata": {},
   "source": [
    "###### Prepared By:  \n",
    "\n",
    "Dani Pangestu  \n",
    "Gabriel Woon  \n",
    "Gabriel Tan  \n",
    "Kenneth Chong  \n",
    "Peter Chettiar  \n",
    "Yong Wen"
   ]
  },
  {
   "cell_type": "code",
   "execution_count": 1,
   "id": "c4842e04",
   "metadata": {},
   "outputs": [],
   "source": [
    "import numpy as np\n",
    "import pandas as pd\n",
    "import matplotlib.pyplot as plt\n",
    "from scipy.optimize import brentq, least_squares\n",
    "from scipy.stats import norm\n",
    "from scipy.integrate import quad\n",
    "from math import log, exp, sqrt\n",
    "from scipy import interpolate\n",
    "from scipy.interpolate import CubicSpline"
   ]
  },
  {
   "cell_type": "code",
   "execution_count": 2,
   "id": "50c8712e",
   "metadata": {},
   "outputs": [],
   "source": [
    "#Black76 model used in obtaining IRR settled options\n",
    "def Black76Lognormal(F, K, T, r, sigma, opt):\n",
    "    d1 = (log(F/K)+(sigma*sigma/2)*T)/(sigma*sqrt(T))\n",
    "    d2 = d1-sigma*sqrt(T)\n",
    "    if opt == 'Call':\n",
    "        return F*exp(-r*T)*norm.cdf(d1) - K*exp(-r*T)*norm.cdf(d2)\n",
    "    elif opt == 'Put':\n",
    "        return K*exp(-r*T)*norm.cdf(-d2) - F*exp(-r*T)*norm.cdf(-d1)\n",
    "    \n",
    "def SABR(F, K, T, alpha, beta, rho, nu):\n",
    "    X = K\n",
    "    if F == K:\n",
    "        numer1 = (((1 - beta)**2)/24)*alpha*alpha/(F**(2 - 2*beta))\n",
    "        numer2 = 0.25*rho*beta*nu*alpha/(F**(1 - beta))\n",
    "        numer3 = ((2 - 3*rho*rho)/24)*nu*nu\n",
    "        VolAtm = alpha*(1 + (numer1 + numer2 + numer3)*T)/(F**(1-beta))\n",
    "        sabrsigma = VolAtm\n",
    "    else:\n",
    "        z = (nu/alpha)*((F*X)**(0.5*(1-beta)))*np.log(F/X)\n",
    "        zhi = np.log((((1 - 2*rho*z + z*z)**0.5) + z - rho)/(1 - rho))\n",
    "        numer1 = (((1 - beta)**2)/24)*((alpha*alpha)/((F*X)**(1 - beta)))\n",
    "        numer2 = 0.25*rho*beta*nu*alpha/((F*X)**((1 - beta)/2))\n",
    "        numer3 = ((2 - 3*rho*rho)/24)*nu*nu\n",
    "        numer = alpha*(1 + (numer1 + numer2 + numer3)*T)*z\n",
    "        denom1 = ((1 - beta)**2/24)*(np.log(F/X))**2\n",
    "        denom2 = (((1 - beta)**4)/1920)*((np.log(F/X))**4)\n",
    "        denom = ((F*X)**((1 - beta)/2))*(1 + denom1 + denom2)*zhi\n",
    "        sabrsigma = numer/denom\n",
    "    return sabrsigma"
   ]
  },
  {
   "cell_type": "code",
   "execution_count": 3,
   "id": "d3d90397",
   "metadata": {
    "scrolled": false
   },
   "outputs": [
    {
     "data": {
      "text/html": [
       "<div>\n",
       "<style scoped>\n",
       "    .dataframe tbody tr th:only-of-type {\n",
       "        vertical-align: middle;\n",
       "    }\n",
       "\n",
       "    .dataframe tbody tr th {\n",
       "        vertical-align: top;\n",
       "    }\n",
       "\n",
       "    .dataframe thead th {\n",
       "        text-align: right;\n",
       "    }\n",
       "</style>\n",
       "<table border=\"1\" class=\"dataframe\">\n",
       "  <thead>\n",
       "    <tr style=\"text-align: right;\">\n",
       "      <th></th>\n",
       "      <th>Tenor</th>\n",
       "      <th>OIS_DF</th>\n",
       "      <th>Forward_LIBOR</th>\n",
       "      <th>LIBOR_DF</th>\n",
       "    </tr>\n",
       "  </thead>\n",
       "  <tbody>\n",
       "    <tr>\n",
       "      <th>0</th>\n",
       "      <td>0.5</td>\n",
       "      <td>0.998752</td>\n",
       "      <td>0.025000</td>\n",
       "      <td>0.987654</td>\n",
       "    </tr>\n",
       "    <tr>\n",
       "      <th>1</th>\n",
       "      <td>1.0</td>\n",
       "      <td>0.997009</td>\n",
       "      <td>0.031005</td>\n",
       "      <td>0.972577</td>\n",
       "    </tr>\n",
       "    <tr>\n",
       "      <th>2</th>\n",
       "      <td>1.5</td>\n",
       "      <td>0.995270</td>\n",
       "      <td>0.031751</td>\n",
       "      <td>0.957378</td>\n",
       "    </tr>\n",
       "    <tr>\n",
       "      <th>3</th>\n",
       "      <td>2.0</td>\n",
       "      <td>0.993531</td>\n",
       "      <td>0.032263</td>\n",
       "      <td>0.942179</td>\n",
       "    </tr>\n",
       "    <tr>\n",
       "      <th>4</th>\n",
       "      <td>2.5</td>\n",
       "      <td>0.991773</td>\n",
       "      <td>0.034218</td>\n",
       "      <td>0.926330</td>\n",
       "    </tr>\n",
       "    <tr>\n",
       "      <th>5</th>\n",
       "      <td>3.0</td>\n",
       "      <td>0.990015</td>\n",
       "      <td>0.034814</td>\n",
       "      <td>0.910482</td>\n",
       "    </tr>\n",
       "    <tr>\n",
       "      <th>6</th>\n",
       "      <td>3.5</td>\n",
       "      <td>0.988066</td>\n",
       "      <td>0.035207</td>\n",
       "      <td>0.894731</td>\n",
       "    </tr>\n",
       "    <tr>\n",
       "      <th>7</th>\n",
       "      <td>4.0</td>\n",
       "      <td>0.986117</td>\n",
       "      <td>0.035838</td>\n",
       "      <td>0.878981</td>\n",
       "    </tr>\n",
       "    <tr>\n",
       "      <th>8</th>\n",
       "      <td>4.5</td>\n",
       "      <td>0.984150</td>\n",
       "      <td>0.034713</td>\n",
       "      <td>0.863985</td>\n",
       "    </tr>\n",
       "    <tr>\n",
       "      <th>9</th>\n",
       "      <td>5.0</td>\n",
       "      <td>0.982184</td>\n",
       "      <td>0.035326</td>\n",
       "      <td>0.848989</td>\n",
       "    </tr>\n",
       "    <tr>\n",
       "      <th>10</th>\n",
       "      <td>5.5</td>\n",
       "      <td>0.979733</td>\n",
       "      <td>0.038889</td>\n",
       "      <td>0.832796</td>\n",
       "    </tr>\n",
       "    <tr>\n",
       "      <th>11</th>\n",
       "      <td>6.0</td>\n",
       "      <td>0.977283</td>\n",
       "      <td>0.039660</td>\n",
       "      <td>0.816603</td>\n",
       "    </tr>\n",
       "    <tr>\n",
       "      <th>12</th>\n",
       "      <td>6.5</td>\n",
       "      <td>0.974844</td>\n",
       "      <td>0.040463</td>\n",
       "      <td>0.800409</td>\n",
       "    </tr>\n",
       "    <tr>\n",
       "      <th>13</th>\n",
       "      <td>7.0</td>\n",
       "      <td>0.972406</td>\n",
       "      <td>0.041298</td>\n",
       "      <td>0.784216</td>\n",
       "    </tr>\n",
       "    <tr>\n",
       "      <th>14</th>\n",
       "      <td>7.5</td>\n",
       "      <td>0.969652</td>\n",
       "      <td>0.039666</td>\n",
       "      <td>0.768965</td>\n",
       "    </tr>\n",
       "  </tbody>\n",
       "</table>\n",
       "</div>"
      ],
      "text/plain": [
       "    Tenor    OIS_DF  Forward_LIBOR  LIBOR_DF\n",
       "0     0.5  0.998752       0.025000  0.987654\n",
       "1     1.0  0.997009       0.031005  0.972577\n",
       "2     1.5  0.995270       0.031751  0.957378\n",
       "3     2.0  0.993531       0.032263  0.942179\n",
       "4     2.5  0.991773       0.034218  0.926330\n",
       "5     3.0  0.990015       0.034814  0.910482\n",
       "6     3.5  0.988066       0.035207  0.894731\n",
       "7     4.0  0.986117       0.035838  0.878981\n",
       "8     4.5  0.984150       0.034713  0.863985\n",
       "9     5.0  0.982184       0.035326  0.848989\n",
       "10    5.5  0.979733       0.038889  0.832796\n",
       "11    6.0  0.977283       0.039660  0.816603\n",
       "12    6.5  0.974844       0.040463  0.800409\n",
       "13    7.0  0.972406       0.041298  0.784216\n",
       "14    7.5  0.969652       0.039666  0.768965"
      ]
     },
     "execution_count": 3,
     "metadata": {},
     "output_type": "execute_result"
    }
   ],
   "source": [
    "#Import LIBOR, OIS discount factors and Forward Libor rate from Part II\n",
    "df_comb1 = pd.read_excel('df_comb.xlsx')\n",
    "df_comb1.drop('Unnamed: 0',axis=1,inplace=True)\n",
    "#df_comb1.set_index(keys = df_comb1.columns[0], drop = True, inplace=True)\n",
    "df_comb1.head(15)"
   ]
  },
  {
   "cell_type": "code",
   "execution_count": 4,
   "id": "4ff2b263",
   "metadata": {},
   "outputs": [],
   "source": [
    "#Obtaining Forward LIBOR from discount factor\n",
    "def F_LIBOR(D1,D2,delta):\n",
    "    forward_LIBOR = (1/delta)*((D1-D2)/D2)\n",
    "    return forward_LIBOR\n",
    "\n",
    "#Obtaining Forward Swap rate\n",
    "def Forward_SWAP_RATE(expiry, tenor, delta):   \n",
    "    month = int(tenor/delta) #no. of payments\n",
    "    float_leg, fixed_leg = 0, 0 #initialize fix and floating leg\n",
    "#Floating Leg = OIS DF * Forward LIBOR * Delta    \n",
    "    for i in range(1,month+1):\n",
    "        loc = expiry + i*delta\n",
    "        float_leg += OIS_DF(loc)*F_LIBOR(LIBOR_DF(loc-delta),LIBOR_DF(loc),delta)*delta\n",
    "#Fixed Leg = Sum of OIS DF from Expiry to last Tenor\n",
    "    for i in range(1,month+1):\n",
    "        fixed_leg += OIS_DF(expiry + i*delta)*delta\n",
    "\n",
    "    return float_leg/fixed_leg"
   ]
  },
  {
   "cell_type": "code",
   "execution_count": 5,
   "id": "bd6147ac",
   "metadata": {},
   "outputs": [],
   "source": [
    "df_alpha = pd.read_excel('df_comb.xlsx', sheet_name='alpha')\n",
    "df_alpha.set_index(\"Unnamed: 0\", inplace = True)\n",
    "df_alpha.index.names = ['Expiry/Tenor']\n",
    "df_alpha.columns = [1,2,3,5,10]\n",
    "df_alpha.index = [1,5,10]\n",
    "\n",
    "df_rho = pd.read_excel('df_comb.xlsx', sheet_name='rho')\n",
    "df_rho.set_index(\"Unnamed: 0\", inplace = True)\n",
    "df_rho.index.names = ['Expiry/Tenor']\n",
    "df_rho.columns = [1,2,3,5,10]\n",
    "df_rho.index = [1,5,10]\n",
    "\n",
    "df_nu = pd.read_excel('df_comb.xlsx', sheet_name='nu')\n",
    "df_nu.set_index(\"Unnamed: 0\", inplace = True)\n",
    "df_nu.index.names = ['Expiry/Tenor']\n",
    "df_nu.columns = [1,2,3,5,10]\n",
    "df_nu.index = [1,5,10]\n",
    "\n",
    "df_beta = pd.read_excel('df_comb.xlsx', sheet_name='beta')\n",
    "df_beta.set_index(\"Unnamed: 0\", inplace = True)\n",
    "df_beta.index.names = ['Expiry/Tenor']\n",
    "\n",
    "df_sigma = pd.read_excel('df_comb.xlsx', sheet_name='sigma')\n",
    "df_sigma.set_index(\"Unnamed: 0\", inplace = True)\n",
    "df_sigma.index.names = ['Expiry/Tenor']"
   ]
  },
  {
   "cell_type": "markdown",
   "id": "136dfc6b",
   "metadata": {},
   "source": [
    "#### Interpolation"
   ]
  },
  {
   "cell_type": "code",
   "execution_count": 6,
   "id": "b7aa42ae",
   "metadata": {},
   "outputs": [],
   "source": [
    "#Obtaining Libor Discount Factor through interpolation (Linear)\n",
    "def LIBOR_DF(T):\n",
    "    x = list(df_comb1['Tenor'])\n",
    "    y = list(df_comb1['LIBOR_DF'])\n",
    "    return np.interp(T, x, y)\n",
    "\n",
    "#Obtaining OIS Discount Factor through interpolation (Linear)\n",
    "def OIS_DF(T):\n",
    "    x = list(df_comb1['Tenor'])\n",
    "    y = list(df_comb1['OIS_DF'])\n",
    "    return np.interp(T, x, y)\n",
    "\n",
    "#Obtaining SABR parameters with Cubic Spline (Cubic Spline)\n",
    "def ParamsCubicSpline (expiry, tenor, data):\n",
    "    splied_from_expiry = []\n",
    "    for i in [1,2,3,5,10]:\n",
    "        result = CubicSpline([1, 5, 10], data[i], bc_type=((2, 0.0), (2, 0.0)), extrapolate=True)\n",
    "        splied_from_expiry.append(result)\n",
    "\n",
    "    extract = []\n",
    "    for i in range(5):\n",
    "        extract.append(splied_from_expiry[i](expiry))\n",
    "\n",
    "    result = CubicSpline([1,2,3,5,10], extract, bc_type=((2, 0.0), (2, 0.0)), extrapolate=True)\n",
    "    return float(result(tenor))"
   ]
  },
  {
   "cell_type": "code",
   "execution_count": 7,
   "id": "7211718a",
   "metadata": {},
   "outputs": [],
   "source": [
    "x_range = np.arange(1,10.1,0.1)"
   ]
  },
  {
   "cell_type": "code",
   "execution_count": 8,
   "id": "c2389bfc",
   "metadata": {},
   "outputs": [
    {
     "name": "stdout",
     "output_type": "stream",
     "text": [
      "          1         2         3         5         10\n",
      "1   0.139070  0.184646  0.196851  0.178052  0.171237\n",
      "5   0.166509  0.199497  0.210346  0.191011  0.177441\n",
      "10  0.177551  0.195043  0.207212  0.201519  0.180061\n"
     ]
    },
    {
     "data": {
      "image/png": "[encoded data removed]",
      "text/plain": [
       "<Figure size 432x288 with 1 Axes>"
      ]
     },
     "metadata": {
      "needs_background": "light"
     },
     "output_type": "display_data"
    },
    {
     "data": {
      "image/png": "[encoded data removed]",
      "text/plain": [
       "<Figure size 432x288 with 1 Axes>"
      ]
     },
     "metadata": {
      "needs_background": "light"
     },
     "output_type": "display_data"
    }
   ],
   "source": [
    "print(df_alpha)\n",
    "plt.plot(df_alpha.index,df_alpha[2],\"o\")\n",
    "plt.plot(x_range, [ParamsCubicSpline(x, 2, df_alpha) for x in x_range])\n",
    "plt.title(\"CubicSpline interpolation of SABR Alpha, Tenor = 2y\")\n",
    "plt.grid()\n",
    "plt.show()\n",
    "plt.plot(df_alpha.index,df_alpha[10],\"o\")\n",
    "plt.plot(x_range, [ParamsCubicSpline(x, 10, df_alpha) for x in x_range])\n",
    "plt.title(\"CubicSpline interpolation of SABR Alpha, Tenor = 10y\")\n",
    "plt.grid()\n",
    "plt.show()"
   ]
  },
  {
   "cell_type": "code",
   "execution_count": 9,
   "id": "e2caedf5",
   "metadata": {},
   "outputs": [
    {
     "name": "stdout",
     "output_type": "stream",
     "text": [
      "          1         2         3         5         10\n",
      "1  -0.633223 -0.525118 -0.482844 -0.414426 -0.265654\n",
      "5  -0.585159 -0.546873 -0.549764 -0.511060 -0.440789\n",
      "10 -0.545858 -0.543758 -0.550870 -0.562452 -0.506978\n"
     ]
    },
    {
     "data": {
      "image/png": "[encoded data removed]",
      "text/plain": [
       "<Figure size 432x288 with 1 Axes>"
      ]
     },
     "metadata": {
      "needs_background": "light"
     },
     "output_type": "display_data"
    },
    {
     "data": {
      "image/png": "[encoded data removed]",
      "text/plain": [
       "<Figure size 432x288 with 1 Axes>"
      ]
     },
     "metadata": {
      "needs_background": "light"
     },
     "output_type": "display_data"
    }
   ],
   "source": [
    "print(df_rho)\n",
    "plt.plot(df_alpha.index,df_rho[2],\"o\")\n",
    "plt.plot(x_range, [ParamsCubicSpline(x, 2, df_rho) for x in x_range])\n",
    "plt.title(\"CubicSpline interpolation of SABR Rho, Tenor = 2y\")\n",
    "plt.grid()\n",
    "plt.show()\n",
    "plt.plot(df_alpha.index,df_rho[10],\"o\")\n",
    "plt.plot(x_range, [ParamsCubicSpline(x, 10, df_rho) for x in x_range])\n",
    "plt.title(\"CubicSpline interpolation of SABR Rho, Tenor = 10y\")\n",
    "plt.grid()\n",
    "plt.show()"
   ]
  },
  {
   "cell_type": "code",
   "execution_count": 10,
   "id": "acea8ffb",
   "metadata": {},
   "outputs": [
    {
     "name": "stdout",
     "output_type": "stream",
     "text": [
      "          1         2         3         5         10\n",
      "1   2.049482  1.677437  1.438138  1.064877  0.776535\n",
      "5   1.339619  1.061909  0.936718  0.671724  0.493849\n",
      "10  1.007291  0.924810  0.869132  0.719875  0.579936\n"
     ]
    },
    {
     "data": {
      "image/png": "[encoded data removed]",
      "text/plain": [
       "<Figure size 432x288 with 1 Axes>"
      ]
     },
     "metadata": {
      "needs_background": "light"
     },
     "output_type": "display_data"
    },
    {
     "data": {
      "image/png": "[encoded data removed]",
      "text/plain": [
       "<Figure size 432x288 with 1 Axes>"
      ]
     },
     "metadata": {
      "needs_background": "light"
     },
     "output_type": "display_data"
    }
   ],
   "source": [
    "print(df_nu)\n",
    "plt.plot(df_alpha.index,df_nu[2],\"o\")\n",
    "plt.plot(x_range, [ParamsCubicSpline(x, 2, df_nu) for x in x_range])\n",
    "plt.title(\"CubicSpline interpolation of SABR Nu, Tenor = 2y\")\n",
    "plt.grid()\n",
    "plt.show()\n",
    "plt.plot(df_alpha.index,df_nu[10],\"o\")\n",
    "plt.plot(x_range, [ParamsCubicSpline(x, 10, df_nu) for x in x_range])\n",
    "plt.title(\"CubicSpline interpolation of SABR Nu, Tenor = 10y\")\n",
    "plt.grid()\n",
    "plt.show()"
   ]
  },
  {
   "cell_type": "markdown",
   "id": "817e70e7",
   "metadata": {},
   "source": [
    "### Part 1: Using the SABR model calibrated in the previous question, value the following constant maturity swap (CMS) products:\n",
    "\n",
    "• PV of a leg receiving CMS10y semi-annually over the next 5 years\n",
    "\n",
    "• PV of a leg receiving CMS2y quarterly over the next 10 years\n"
   ]
  },
  {
   "cell_type": "markdown",
   "id": "08b02df1",
   "metadata": {},
   "source": [
    "A constant maturity swap (CMS) pays a swap rate rather than a LIBOR rate\n",
    "on its floating leg.\n",
    "\n",
    "CMS products gives us an easy way to gain exposure to fixed-length longer-term interest rates by taking a view on a fixed point on the yield curve. This is in contrast with using IRS as exposure will become shorter over time as IRS shifts from the long end of the yield curve to the short end.\n"
   ]
  },
  {
   "cell_type": "markdown",
   "id": "4dc4373f",
   "metadata": {},
   "source": [
    "The standard practice in the market is to use the static-replication method to\n",
    "obtain a model-independent convexity correction. By static-replication approach, and choosing the forward swap rate F = Sn,N (0) as our expansion\n",
    "point, we can express this as:\n",
    "\n",
    "\\begin{equation}\n",
    "\\begin{aligned}\n",
    "&V_{0}=D(0, T) g(F)+h^{\\prime}(F)\\left[V^{\\text {pay }}(F)-V^{r e c}(F)\\right] \\\\\n",
    "&\\quad+\\int_{0}^{F} h^{\\prime \\prime}(K) V^{r e c}(K) d K+\\int_{F^{\\prime}}^{\\infty} h^{\\prime \\prime}(K) V^{\\text {pay }}(K) d K \\\\\n",
    "&=D(0, T) g(F)+\\int_{0}^{F} h^{\\prime \\prime}(K) V^{r e c}(K) d K+\\int_{F}^{\\infty} h^{\\prime \\prime}(K) V^{p a y}(K) d K\n",
    "\\end{aligned}\n",
    "\\end{equation}"
   ]
  },
  {
   "cell_type": "markdown",
   "id": "f46d049d",
   "metadata": {},
   "source": [
    "#### IRR-settled option pricer (Vpay or Vrec) is given by:\n",
    "\n",
    "\\begin{equation}\n",
    "V(K)=D(0, T) \\cdot \\operatorname{IRR}\\left(S_{n, N}(0)\\right) \\cdot \\operatorname{Black} 76\\left(S_{n, N}(0), K, \\sigma_{\\mathrm{SABR}}, T\\right)\n",
    "\\end{equation}\n",
    "\n",
    "whereby the sigma for Black76 Model is derived for the SABR model above.\n"
   ]
  },
  {
   "cell_type": "markdown",
   "id": "e74c9bb9",
   "metadata": {},
   "source": [
    "#### Obtaining $ h^{\\prime \\prime}(K) $ :\n",
    "\n",
    "\\begin{equation}\n",
    "h^{\\prime \\prime}(K)=\\frac{-\\operatorname{IRR}^{\\prime \\prime}(K) \\cdot K-2 \\cdot \\operatorname{IRR}^{\\prime}(K)}{\\operatorname{IRR}(K)^{2}}+\\frac{2 \\cdot \\operatorname{IRR}^{\\prime}(K)^{2} \\cdot K}{\\operatorname{IRR}(K)^{3}}\n",
    "\\end{equation}"
   ]
  },
  {
   "cell_type": "code",
   "execution_count": 11,
   "id": "6ef16ab5",
   "metadata": {},
   "outputs": [],
   "source": [
    "#use prof code to calculate IRR whereby no need to use for loop\n",
    "def IRR(Tenor, Delta, K):\n",
    "    total = 0\n",
    "    for i in np.arange(1, Tenor/Delta +1):\n",
    "        total += Delta*(1 + K* Delta)**(-i)\n",
    "    return total\n",
    "\n",
    "def IRR_1st(Tenor, Delta, K):\n",
    "    total = 0\n",
    "    for i in np.arange(1, Tenor/Delta +1):\n",
    "        total += (-i)*(Delta**2)*(1 + K* Delta)**(-i-1)\n",
    "    return total\n",
    "\n",
    "def IRR_2nd(Tenor, Delta, K):\n",
    "    total = 0\n",
    "    for i in np.arange(1, Tenor/Delta +1):\n",
    "        total += (-i)*(-i-1)*(Delta**3)*(1 + K* Delta)**(-i-2)\n",
    "    return total\n",
    " \n",
    "def h_2nd(Tenor, Delta, K):\n",
    "    IRR0 = IRR(Tenor, Delta, K)\n",
    "    IRR1 = IRR_1st(Tenor, Delta, K)\n",
    "    IRR2 = IRR_2nd(Tenor, Delta, K) \n",
    "    return (-IRR2*K - 2*IRR1) / (IRR0**2) + 2*(IRR1**2)*K/(IRR0**3)\n",
    "\n",
    "def integrand(F, K, T, r, sigma, tenor, delta, opt):\n",
    "    irr = IRR(tenor, delta, F)\n",
    "    hppk = h_2nd(tenor, delta, K)\n",
    "    return hppk*Black76Lognormal(F, K, T, r, sigma, opt)"
   ]
  },
  {
   "cell_type": "markdown",
   "id": "f4c71b64",
   "metadata": {},
   "source": [
    "#### CMS Rate written as:\n",
    "\n",
    "$$ E^{T}\\left[S_{n, N}(T)\\right]=g(F)+\\frac{1}{D_{0}(0, T)}\\left[\\int_{0}^{F} h^{\\prime \\prime}(K) V^{\\text {rec }}(K) d K+\\int_{F}^{\\infty} h^{\\prime \\prime}(K) V^{\\text {pay }}(K) d K\\right] $$"
   ]
  },
  {
   "cell_type": "code",
   "execution_count": 12,
   "id": "12bfedc4",
   "metadata": {},
   "outputs": [],
   "source": [
    "def CMS(expiry, tenor, delta):\n",
    "    F       = Forward_SWAP_RATE(expiry, tenor, delta)\n",
    "    alpha   = ParamsCubicSpline(expiry,tenor,df_alpha)\n",
    "    rho     = ParamsCubicSpline(expiry,tenor,df_rho)\n",
    "    nu      = ParamsCubicSpline(expiry,tenor,df_nu)\n",
    "    \n",
    "    VRec     = quad(lambda x:integrand(F,x,expiry,0,\n",
    "                                      SABR(F,x,expiry,alpha,0.9,rho,nu),\n",
    "                                      tenor, delta, 'Put'), 0, F)\n",
    "    VPay     = quad(lambda x:integrand(F,x,expiry,0,\n",
    "                                      SABR(F,x,expiry,alpha,0.9,rho,nu),\n",
    "                                      tenor, delta, 'Call'), F, 0.1) \n",
    "    \n",
    "    return F + VRec[0] + VPay[0]"
   ]
  },
  {
   "cell_type": "markdown",
   "id": "5ea68b90",
   "metadata": {},
   "source": [
    "#### The PV of a CMS leg is the sum of the discounted values of the CMS rates, multiplied by the day count fraction."
   ]
  },
  {
   "cell_type": "markdown",
   "id": "867070e0",
   "metadata": {},
   "source": [
    "\\begin{equation}\n",
    "C M S \\operatorname{leg} P V=\\sum_{i=0.5}^{N} D_{0}\\left(0, T_{i}\\right) * \\operatorname{CMS}\\left(S_{n, N}\\left(T_{i}\\right)\\right) * \\text { Date Count }\n",
    "\\end{equation}"
   ]
  },
  {
   "cell_type": "code",
   "execution_count": 13,
   "id": "85c730ae",
   "metadata": {},
   "outputs": [],
   "source": [
    "def PV_CMS(tenor, cms_period, delta):\n",
    "    n = int(cms_period/delta)\n",
    "    pv = 0\n",
    "    for i in range(1,n+1):\n",
    "        loc = i*delta\n",
    "        pv += OIS_DF(loc)*delta*CMS(loc,tenor,delta)\n",
    "    return pv"
   ]
  },
  {
   "cell_type": "code",
   "execution_count": 14,
   "id": "00cbd401",
   "metadata": {
    "scrolled": false
   },
   "outputs": [
    {
     "name": "stdout",
     "output_type": "stream",
     "text": [
      "The PV of a leg receiving CMS10y semi-annually over the next 5 years is 0.20209.\n"
     ]
    }
   ],
   "source": [
    "cms_period = 5\n",
    "tenor = 10\n",
    "delta = 0.5\n",
    "PV = PV_CMS(tenor, cms_period, delta)\n",
    "print(f\"The PV of a leg receiving CMS10y semi-annually over the next 5 years is {PV:.5f}.\")"
   ]
  },
  {
   "cell_type": "code",
   "execution_count": 15,
   "id": "1743b7a1",
   "metadata": {},
   "outputs": [
    {
     "name": "stdout",
     "output_type": "stream",
     "text": [
      "The PV of a leg receiving CMS2y quarterly over the next 10 years is 0.38106.\n"
     ]
    }
   ],
   "source": [
    "cms_period = 10\n",
    "tenor = 2\n",
    "date_count_f = 0.25\n",
    "PV = PV_CMS(tenor, cms_period, date_count_f)\n",
    "print(f\"The PV of a leg receiving CMS2y quarterly over the next 10 years is {PV:.5f}.\")"
   ]
  },
  {
   "cell_type": "markdown",
   "id": "234ca78e",
   "metadata": {},
   "source": [
    "### Part 2: Compare the forward swap rates with the CMS rate:\n",
    "\n",
    "• 1y × 1y, 1y × 2y, 1y × 3y, 1y × 5y, 1y × 10y\n",
    "\n",
    "• 5y × 1y, 5y × 2y, 5y × 3y, 5y × 5y, 5y × 10y\n",
    "\n",
    "• 10y × 1y, 10y × 2y, 10y × 3y, 10y × 5y, 10y × 10y\n"
   ]
  },
  {
   "cell_type": "code",
   "execution_count": 16,
   "id": "658afb17",
   "metadata": {},
   "outputs": [],
   "source": [
    "#Obtaining CMS rates\n",
    "Exipry = [1, 5, 10]\n",
    "Tenor = [1, 2, 3, 5, 10]\n",
    "delta = 0.5\n",
    "\n",
    "CMS_list = []\n",
    "for i in Exipry:\n",
    "    for j in Tenor:\n",
    "        CMS_list.append(CMS(i,j,delta))"
   ]
  },
  {
   "cell_type": "code",
   "execution_count": 17,
   "id": "cfd969f5",
   "metadata": {},
   "outputs": [],
   "source": [
    "#import SABR Implied Vol parameters data -> alpha, rho, nu\n",
    "#df_SABRImpVol = pd.read_csv('df_SABRImpVol.csv')\n",
    "#df_SABRImpVol.set_index(keys = df_SABRImpVol.columns[0], drop = True, inplace=True)"
   ]
  },
  {
   "cell_type": "code",
   "execution_count": 18,
   "id": "45044dab",
   "metadata": {},
   "outputs": [],
   "source": [
    "# fwdSwapRatesDF = pd.read_csv('fwdSwapRatesDF.csv')\n",
    "fwdSwapRatesDF = pd.read_excel('df_comb.xlsx', sheet_name='forward swap rates')"
   ]
  },
  {
   "cell_type": "code",
   "execution_count": 19,
   "id": "775ffe55",
   "metadata": {},
   "outputs": [
    {
     "data": {
      "text/html": [
       "<div>\n",
       "<style scoped>\n",
       "    .dataframe tbody tr th:only-of-type {\n",
       "        vertical-align: middle;\n",
       "    }\n",
       "\n",
       "    .dataframe tbody tr th {\n",
       "        vertical-align: top;\n",
       "    }\n",
       "\n",
       "    .dataframe thead th {\n",
       "        text-align: right;\n",
       "    }\n",
       "</style>\n",
       "<table border=\"1\" class=\"dataframe\">\n",
       "  <thead>\n",
       "    <tr style=\"text-align: right;\">\n",
       "      <th></th>\n",
       "      <th>Start</th>\n",
       "      <th>Tenor</th>\n",
       "      <th>Forward Swap Rates</th>\n",
       "    </tr>\n",
       "  </thead>\n",
       "  <tbody>\n",
       "    <tr>\n",
       "      <th>0</th>\n",
       "      <td>1</td>\n",
       "      <td>1</td>\n",
       "      <td>0.032007</td>\n",
       "    </tr>\n",
       "    <tr>\n",
       "      <th>1</th>\n",
       "      <td>1</td>\n",
       "      <td>2</td>\n",
       "      <td>0.033259</td>\n",
       "    </tr>\n",
       "    <tr>\n",
       "      <th>2</th>\n",
       "      <td>1</td>\n",
       "      <td>3</td>\n",
       "      <td>0.034011</td>\n",
       "    </tr>\n",
       "    <tr>\n",
       "      <th>3</th>\n",
       "      <td>1</td>\n",
       "      <td>5</td>\n",
       "      <td>0.035255</td>\n",
       "    </tr>\n",
       "    <tr>\n",
       "      <th>4</th>\n",
       "      <td>1</td>\n",
       "      <td>10</td>\n",
       "      <td>0.038428</td>\n",
       "    </tr>\n",
       "    <tr>\n",
       "      <th>5</th>\n",
       "      <td>5</td>\n",
       "      <td>1</td>\n",
       "      <td>0.039274</td>\n",
       "    </tr>\n",
       "    <tr>\n",
       "      <th>6</th>\n",
       "      <td>5</td>\n",
       "      <td>2</td>\n",
       "      <td>0.040075</td>\n",
       "    </tr>\n",
       "    <tr>\n",
       "      <th>7</th>\n",
       "      <td>5</td>\n",
       "      <td>3</td>\n",
       "      <td>0.040072</td>\n",
       "    </tr>\n",
       "    <tr>\n",
       "      <th>8</th>\n",
       "      <td>5</td>\n",
       "      <td>5</td>\n",
       "      <td>0.041093</td>\n",
       "    </tr>\n",
       "    <tr>\n",
       "      <th>9</th>\n",
       "      <td>5</td>\n",
       "      <td>10</td>\n",
       "      <td>0.043634</td>\n",
       "    </tr>\n",
       "    <tr>\n",
       "      <th>10</th>\n",
       "      <td>10</td>\n",
       "      <td>1</td>\n",
       "      <td>0.042190</td>\n",
       "    </tr>\n",
       "    <tr>\n",
       "      <th>11</th>\n",
       "      <td>10</td>\n",
       "      <td>2</td>\n",
       "      <td>0.043116</td>\n",
       "    </tr>\n",
       "    <tr>\n",
       "      <th>12</th>\n",
       "      <td>10</td>\n",
       "      <td>3</td>\n",
       "      <td>0.044097</td>\n",
       "    </tr>\n",
       "    <tr>\n",
       "      <th>13</th>\n",
       "      <td>10</td>\n",
       "      <td>5</td>\n",
       "      <td>0.046249</td>\n",
       "    </tr>\n",
       "    <tr>\n",
       "      <th>14</th>\n",
       "      <td>10</td>\n",
       "      <td>10</td>\n",
       "      <td>0.053458</td>\n",
       "    </tr>\n",
       "  </tbody>\n",
       "</table>\n",
       "</div>"
      ],
      "text/plain": [
       "    Start  Tenor  Forward Swap Rates\n",
       "0       1      1            0.032007\n",
       "1       1      2            0.033259\n",
       "2       1      3            0.034011\n",
       "3       1      5            0.035255\n",
       "4       1     10            0.038428\n",
       "5       5      1            0.039274\n",
       "6       5      2            0.040075\n",
       "7       5      3            0.040072\n",
       "8       5      5            0.041093\n",
       "9       5     10            0.043634\n",
       "10     10      1            0.042190\n",
       "11     10      2            0.043116\n",
       "12     10      3            0.044097\n",
       "13     10      5            0.046249\n",
       "14     10     10            0.053458"
      ]
     },
     "execution_count": 19,
     "metadata": {},
     "output_type": "execute_result"
    }
   ],
   "source": [
    "fwdSwapRatesDF"
   ]
  },
  {
   "cell_type": "code",
   "execution_count": 20,
   "id": "a2cb8ac7",
   "metadata": {
    "scrolled": false
   },
   "outputs": [
    {
     "data": {
      "text/html": [
       "<div>\n",
       "<style scoped>\n",
       "    .dataframe tbody tr th:only-of-type {\n",
       "        vertical-align: middle;\n",
       "    }\n",
       "\n",
       "    .dataframe tbody tr th {\n",
       "        vertical-align: top;\n",
       "    }\n",
       "\n",
       "    .dataframe thead th {\n",
       "        text-align: right;\n",
       "    }\n",
       "</style>\n",
       "<table border=\"1\" class=\"dataframe\">\n",
       "  <thead>\n",
       "    <tr style=\"text-align: right;\">\n",
       "      <th></th>\n",
       "      <th>CMS_rate</th>\n",
       "      <th>Forward_Swap_rate</th>\n",
       "      <th>Difference</th>\n",
       "    </tr>\n",
       "  </thead>\n",
       "  <tbody>\n",
       "    <tr>\n",
       "      <th>1 x 1</th>\n",
       "      <td>0.032120</td>\n",
       "      <td>0.032007</td>\n",
       "      <td>0.000113</td>\n",
       "    </tr>\n",
       "    <tr>\n",
       "      <th>1 x 2</th>\n",
       "      <td>0.033382</td>\n",
       "      <td>0.033259</td>\n",
       "      <td>0.000123</td>\n",
       "    </tr>\n",
       "    <tr>\n",
       "      <th>1 x 3</th>\n",
       "      <td>0.034120</td>\n",
       "      <td>0.034011</td>\n",
       "      <td>0.000109</td>\n",
       "    </tr>\n",
       "    <tr>\n",
       "      <th>1 x 5</th>\n",
       "      <td>0.035326</td>\n",
       "      <td>0.035255</td>\n",
       "      <td>0.000071</td>\n",
       "    </tr>\n",
       "    <tr>\n",
       "      <th>1 x 10</th>\n",
       "      <td>0.038496</td>\n",
       "      <td>0.038428</td>\n",
       "      <td>0.000068</td>\n",
       "    </tr>\n",
       "    <tr>\n",
       "      <th>5 x 1</th>\n",
       "      <td>0.040129</td>\n",
       "      <td>0.039274</td>\n",
       "      <td>0.000855</td>\n",
       "    </tr>\n",
       "    <tr>\n",
       "      <th>5 x 2</th>\n",
       "      <td>0.040756</td>\n",
       "      <td>0.040075</td>\n",
       "      <td>0.000681</td>\n",
       "    </tr>\n",
       "    <tr>\n",
       "      <th>5 x 3</th>\n",
       "      <td>0.040664</td>\n",
       "      <td>0.040072</td>\n",
       "      <td>0.000592</td>\n",
       "    </tr>\n",
       "    <tr>\n",
       "      <th>5 x 5</th>\n",
       "      <td>0.041532</td>\n",
       "      <td>0.041093</td>\n",
       "      <td>0.000439</td>\n",
       "    </tr>\n",
       "    <tr>\n",
       "      <th>5 x 10</th>\n",
       "      <td>0.044050</td>\n",
       "      <td>0.043634</td>\n",
       "      <td>0.000416</td>\n",
       "    </tr>\n",
       "    <tr>\n",
       "      <th>10 x 1</th>\n",
       "      <td>0.043635</td>\n",
       "      <td>0.042190</td>\n",
       "      <td>0.001445</td>\n",
       "    </tr>\n",
       "    <tr>\n",
       "      <th>10 x 2</th>\n",
       "      <td>0.044323</td>\n",
       "      <td>0.043116</td>\n",
       "      <td>0.001207</td>\n",
       "    </tr>\n",
       "    <tr>\n",
       "      <th>10 x 3</th>\n",
       "      <td>0.045225</td>\n",
       "      <td>0.044097</td>\n",
       "      <td>0.001128</td>\n",
       "    </tr>\n",
       "    <tr>\n",
       "      <th>10 x 5</th>\n",
       "      <td>0.047210</td>\n",
       "      <td>0.046249</td>\n",
       "      <td>0.000961</td>\n",
       "    </tr>\n",
       "    <tr>\n",
       "      <th>10 x 10</th>\n",
       "      <td>0.054528</td>\n",
       "      <td>0.053458</td>\n",
       "      <td>0.001070</td>\n",
       "    </tr>\n",
       "  </tbody>\n",
       "</table>\n",
       "</div>"
      ],
      "text/plain": [
       "         CMS_rate  Forward_Swap_rate  Difference\n",
       "1 x 1    0.032120           0.032007    0.000113\n",
       "1 x 2    0.033382           0.033259    0.000123\n",
       "1 x 3    0.034120           0.034011    0.000109\n",
       "1 x 5    0.035326           0.035255    0.000071\n",
       "1 x 10   0.038496           0.038428    0.000068\n",
       "5 x 1    0.040129           0.039274    0.000855\n",
       "5 x 2    0.040756           0.040075    0.000681\n",
       "5 x 3    0.040664           0.040072    0.000592\n",
       "5 x 5    0.041532           0.041093    0.000439\n",
       "5 x 10   0.044050           0.043634    0.000416\n",
       "10 x 1   0.043635           0.042190    0.001445\n",
       "10 x 2   0.044323           0.043116    0.001207\n",
       "10 x 3   0.045225           0.044097    0.001128\n",
       "10 x 5   0.047210           0.046249    0.000961\n",
       "10 x 10  0.054528           0.053458    0.001070"
      ]
     },
     "execution_count": 20,
     "metadata": {},
     "output_type": "execute_result"
    }
   ],
   "source": [
    "Index = ['1 x 1', '1 x 2', '1 x 3', '1 x 5', '1 x 10',\n",
    "         '5 x 1', '5 x 2', '5 x 3', '5 x 5', '5 x 10',\n",
    "         '10 x 1', '10 x 2', '10 x 3', '10 x 5', '10 x 10']\n",
    "\n",
    "summary = pd.DataFrame({'CMS_rate':CMS_list, 'Forward_Swap_rate':fwdSwapRatesDF[\"Forward Swap Rates\"].values }, index = Index)\n",
    "summary['Difference'] = summary.CMS_rate - summary.Forward_Swap_rate\n",
    "summary"
   ]
  },
  {
   "cell_type": "code",
   "execution_count": 21,
   "id": "65b6cdcf",
   "metadata": {
    "scrolled": false
   },
   "outputs": [
    {
     "data": {
      "image/png": "[encoded data removed]",
      "text/plain": [
       "<Figure size 432x288 with 1 Axes>"
      ]
     },
     "metadata": {
      "needs_background": "light"
     },
     "output_type": "display_data"
    },
    {
     "data": {
      "image/png": "[encoded data removed]",
      "text/plain": [
       "<Figure size 432x288 with 1 Axes>"
      ]
     },
     "metadata": {
      "needs_background": "light"
     },
     "output_type": "display_data"
    },
    {
     "data": {
      "image/png": "[encoded data removed]",
      "text/plain": [
       "<Figure size 432x288 with 1 Axes>"
      ]
     },
     "metadata": {
      "needs_background": "light"
     },
     "output_type": "display_data"
    }
   ],
   "source": [
    "title_list = ['Expiry = 1 year', 'Expiry = 5 year', 'Expiry = 10 year']\n",
    "for i in range(3):\n",
    "    plt.plot(Tenor,summary[\"CMS_rate\"][i*5:(i+1)*5],label=\"CMS Rate\")\n",
    "    plt.plot(Tenor,summary[\"Forward_Swap_rate\"][i*5:(i+1)*5],label=\"Forward_Swap_rate\")\n",
    "    plt.title(title_list[i])\n",
    "    plt.ylabel(\"Rates\")\n",
    "    plt.xlabel(\"Tenor\")\n",
    "    plt.legend()\n",
    "    plt.grid()\n",
    "    plt.show()"
   ]
  }
 ],
 "metadata": {
  "kernelspec": {
   "display_name": "Python 3 (ipykernel)",
   "language": "python",
   "name": "python3"
  },
  "language_info": {
   "codemirror_mode": {
    "name": "ipython",
    "version": 3
   },
   "file_extension": ".py",
   "mimetype": "text/x-python",
   "name": "python",
   "nbconvert_exporter": "python",
   "pygments_lexer": "ipython3",
   "version": "3.9.7"
  }
 },
 "nbformat": 4,
 "nbformat_minor": 5
}
