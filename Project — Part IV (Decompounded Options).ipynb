{
 "cells": [
  {
   "cell_type": "markdown",
   "id": "b2baa54b",
   "metadata": {},
   "source": [
    "# QF605 Part IV"
   ]
  },
  {
   "cell_type": "markdown",
   "id": "65465200",
   "metadata": {},
   "source": [
    "###### Prepared By:  \n",
    "\n",
    "Dani Pangestu  \n",
    "Gabriel Woon  \n",
    "Gabriel Tan  \n",
    "Kenneth Chong  \n",
    "Peter Chettiar  \n",
    "Yong Wen"
   ]
  },
  {
   "cell_type": "markdown",
   "id": "b4462397",
   "metadata": {},
   "source": [
    "### Import Necessary Packages"
   ]
  },
  {
   "cell_type": "code",
   "execution_count": 1,
   "id": "d78458fd",
   "metadata": {},
   "outputs": [],
   "source": [
    "import pandas as pd\n",
    "import numpy as np\n",
    "from scipy import integrate\n",
    "from math import log, sqrt, exp\n",
    "from scipy.stats import norm\n"
   ]
  },
  {
   "cell_type": "markdown",
   "id": "6fc8cbb6",
   "metadata": {},
   "source": [
    "### Import Dataset"
   ]
  },
  {
   "cell_type": "code",
   "execution_count": 2,
   "id": "5bd2fa3d",
   "metadata": {},
   "outputs": [],
   "source": [
    "data_DF = pd.read_excel('df_comb.xlsx')\n",
    "data_FS = pd.read_excel('df_comb.xlsx', sheet_name = \"forward swap rates\", header = 0, index_col = 0) "
   ]
  },
  {
   "cell_type": "code",
   "execution_count": 3,
   "id": "d44e5fa4",
   "metadata": {},
   "outputs": [],
   "source": [
    "data_Alpha = pd.read_excel('df_comb.xlsx', sheet_name = \"alpha\", header = 0, index_col = 0) \n",
    "data_Rho = pd.read_excel('df_comb.xlsx', sheet_name = \"rho\", header = 0, index_col = 0) \n",
    "data_Nu = pd.read_excel('df_comb.xlsx', sheet_name = \"nu\", header = 0, index_col = 0) \n"
   ]
  },
  {
   "cell_type": "markdown",
   "id": "59362886",
   "metadata": {},
   "source": [
    "### Define Function"
   ]
  },
  {
   "cell_type": "code",
   "execution_count": 4,
   "id": "8a0794df",
   "metadata": {},
   "outputs": [],
   "source": [
    "def SABR(F, K, T, alpha, beta, rho, nu):\n",
    "    X = K\n",
    "    # if K is at-the-money-forward\n",
    "    if abs(F - K) < 1e-12:\n",
    "        numer1 = (((1 - beta)**2)/24)*alpha*alpha/(F**(2 - 2*beta))\n",
    "        numer2 = 0.25*rho*beta*nu*alpha/(F**(1 - beta))\n",
    "        numer3 = ((2 - 3*rho*rho)/24)*nu*nu\n",
    "        VolAtm = alpha*(1 + (numer1 + numer2 + numer3)*T)/(F**(1-beta))\n",
    "        sabrsigma = VolAtm\n",
    "    else:\n",
    "        z = (nu/alpha)*((F*X)**(0.5*(1-beta)))*log(F/X)\n",
    "        zhi = log((((1 - 2*rho*z + z*z)**0.5) + z - rho)/(1 - rho))\n",
    "        numer1 = (((1 - beta)**2)/24)*((alpha*alpha)/((F*X)**(1 - beta)))\n",
    "        numer2 = 0.25*rho*beta*nu*alpha/((F*X)**((1 - beta)/2))\n",
    "        numer3 = ((2 - 3*rho*rho)/24)*nu*nu\n",
    "        numer = alpha*(1 + (numer1 + numer2 + numer3)*T)*z\n",
    "        denom1 = ((1 - beta)**2/24)*(log(F/X))**2\n",
    "        denom2 = (((1 - beta)**4)/1920)*((log(F/X))**4)\n",
    "        denom = ((F*X)**((1 - beta)/2))*(1 + denom1 + denom2)*zhi\n",
    "        sabrsigma = numer/denom\n",
    "\n",
    "    return sabrsigma\n",
    "\n",
    "def Black76Lognormal(F, K, r, sigma, T, opt):\n",
    "    d1 = (log(F/K)+(sigma*sigma/2)*T)/(sigma*sqrt(T))\n",
    "    d2 = d1-sigma*sqrt(T)\n",
    "    if opt == 'Call':\n",
    "        return F*exp(-r*T)*norm.cdf(d1) - K*exp(-r*T)*norm.cdf(d2)\n",
    "    elif opt == 'Put':\n",
    "        return K*exp(-r*T)*norm.cdf(-d2) - F*exp(-r*T)*norm.cdf(-d1)"
   ]
  },
  {
   "cell_type": "markdown",
   "id": "6c0d43a2",
   "metadata": {},
   "source": [
    "### IRR"
   ]
  },
  {
   "cell_type": "code",
   "execution_count": 5,
   "id": "d95be877",
   "metadata": {},
   "outputs": [],
   "source": [
    "def IRR_0(K, m, N):\n",
    "    # IRR(K) function\n",
    "    IRR = 1/K * ( 1.0 - 1/(1 + K/m)**(N*m) )\n",
    "    return IRR\n",
    "\n",
    "def IRR_1(K, m, N):\n",
    "    # 1st Derivative of IRR(K)\n",
    "    first = -1/K*IRR_0(K, m, N) + 1/(K*m)*N*m/(1+K/m)**(N*m+1)\n",
    "    return first\n",
    "\n",
    "def IRR_2(K, m, N):\n",
    "    # 2nd Derivative of IRR(K)\n",
    "    second = -2/K*IRR_1(K, m, N) - 1/(K*m*m)*(N*m)*(N*m+1)/(1+K/m)**(N*m+2)\n",
    "    return second"
   ]
  },
  {
   "cell_type": "markdown",
   "id": "981d80fa",
   "metadata": {},
   "source": [
    "### Static Replication"
   ]
  },
  {
   "cell_type": "code",
   "execution_count": 6,
   "id": "381f3bea",
   "metadata": {},
   "outputs": [],
   "source": [
    "def g_0(F):\n",
    "    return F**0.25-0.2\n",
    "def g_1(F):\n",
    "    return 0.25*(F**(-0.75))\n",
    "def g_2(F):\n",
    "    return (-3/16)*(F**(-7/4))\n",
    "\n",
    "def h_0(K, m, N):\n",
    "    # implementation of h(K)\n",
    "    h = g_0(K) / IRR_0(K, m, N)\n",
    "    return h\n",
    "\n",
    "def h_1(K, m, N):\n",
    "    # 1st Derivative of h(K)\n",
    "    first = (IRR_0(K, m, N)*g_1(K) - g_0(K)*IRR_1(K, m, N)) / IRR_0(K, m, N)**2\n",
    "    return first\n",
    "\n",
    "def h_2(K, m, N):\n",
    "    # 2nd Derivative of h(K)\n",
    "    second = ((IRR_0(K, m, N)*g_2(K) - IRR_2(K, m, N)*g_0(K) - 2.0*IRR_1(K, m, N)*g_1(K))/IRR_0(K, m, N)**2 \n",
    "                        + 2.0*IRR_1(K, m, N)**2*g_0(K)/IRR_0(K, m, N)**3)\n",
    "    return second"
   ]
  },
  {
   "cell_type": "code",
   "execution_count": 7,
   "id": "993edf18",
   "metadata": {},
   "outputs": [
    {
     "name": "stderr",
     "output_type": "stream",
     "text": [
      "C:\\Users\\Asus\\AppData\\Local\\Temp/ipykernel_120/2965046875.py:13: IntegrationWarning: The maximum number of subdivisions (50) has been achieved.\n",
      "  If increasing the limit yields no improvement it is advised to analyze \n",
      "  the integrand in order to determine the difficulties.  If the position of a \n",
      "  local difficulty can be determined (singularity, discontinuity) one will \n",
      "  probably gain from splitting up the interval and calling the integrator \n",
      "  on the subranges.  Perhaps a special-purpose integrator should be used.\n",
      "  V_rec = integrate.quad(lambda x: h_2(x,Tenor,Delta)*Black76Lognormal(FSR, x, 0, SABR(FSR, x, T, alpha, 0.9, rho, nu),T, \"Put\"),\n"
     ]
    }
   ],
   "source": [
    "FSR = data_FS.iloc[9, 1]  # FSR 5y x 10y\n",
    "D = data_DF.iloc[9,2]     # D(0, 5y)\n",
    "\n",
    "alpha = data_Alpha.iloc[1,4] # alpha for 5y x 10y forward swap\n",
    "beta = 0.9                        # pre-determined beta \n",
    "rho = data_Rho.iloc[1,4]      # rho for 5y x 10y forward swap\n",
    "nu = data_Nu.iloc[1,4]      # nu for 5y x 10y forward swap\n",
    "\n",
    "Tenor = 10\n",
    "Delta = 0.5\n",
    "T = 5\n",
    "\n",
    "V_rec = integrate.quad(lambda x: h_2(x,Tenor,Delta)*Black76Lognormal(FSR, x, 0, SABR(FSR, x, T, alpha, 0.9, rho, nu),T, \"Put\"),\n",
    "                                                    0,FSR)\n",
    "V_pay = integrate.quad(lambda x: h_2(x,Tenor,Delta)*Black76Lognormal(FSR, x, 0, SABR(FSR, x, T, alpha, 0.9, rho, nu),T, \"Call\"),\n",
    "                                                   FSR,100000000)\n",
    "                                                   \n",
    "PVoption = D * g_0(FSR) + V_rec[0] + V_pay[0]"
   ]
  },
  {
   "cell_type": "code",
   "execution_count": 8,
   "id": "8bb815f0",
   "metadata": {},
   "outputs": [
    {
     "name": "stdout",
     "output_type": "stream",
     "text": [
      "PV for the Payoff is  0.17733796755786232\n"
     ]
    }
   ],
   "source": [
    "print(\"PV for the Payoff is \",PVoption)"
   ]
  },
  {
   "cell_type": "markdown",
   "id": "a4ba13c1",
   "metadata": {},
   "source": [
    "### Question 2"
   ]
  },
  {
   "cell_type": "code",
   "execution_count": 9,
   "id": "ee9e3bcc",
   "metadata": {},
   "outputs": [
    {
     "name": "stdout",
     "output_type": "stream",
     "text": [
      "PV of this Payoff is  2.6351730460756175\n"
     ]
    },
    {
     "name": "stderr",
     "output_type": "stream",
     "text": [
      "C:\\Users\\Asus\\AppData\\Local\\Temp/ipykernel_120/707181444.py:7: IntegrationWarning: The integral is probably divergent, or slowly convergent.\n",
      "  term2 = integrate.quad(lambda x: h_2(x, Tenor,Delta)*Black76Lognormal(FSR, x, 0, SABR(FSR, x, T, alpha, 0.9, rho, nu),T,\"Call\"),\n"
     ]
    }
   ],
   "source": [
    "Tenor = 10\n",
    "Delta = 0.5\n",
    "T = 5\n",
    "L = 0.2**4\n",
    "\n",
    "term1 = h_1(L, Tenor, Delta)*Black76Lognormal(FSR, L, 0, SABR(FSR, L, T, alpha, 0.9, rho, nu),T,\"Call\")\n",
    "term2 = integrate.quad(lambda x: h_2(x, Tenor,Delta)*Black76Lognormal(FSR, x, 0, SABR(FSR, x, T, alpha, 0.9, rho, nu),T,\"Call\"),\n",
    "                                                    L,10000000)\n",
    "PV_caplet = term1+ term2[0]\n",
    "print(\"PV of this Payoff is \",PV_caplet)"
   ]
  }
 ],
 "metadata": {
  "kernelspec": {
   "display_name": "Python 3 (ipykernel)",
   "language": "python",
   "name": "python3"
  },
  "language_info": {
   "codemirror_mode": {
    "name": "ipython",
    "version": 3
   },
   "file_extension": ".py",
   "mimetype": "text/x-python",
   "name": "python",
   "nbconvert_exporter": "python",
   "pygments_lexer": "ipython3",
   "version": "3.9.7"
  }
 },
 "nbformat": 4,
 "nbformat_minor": 5
}
